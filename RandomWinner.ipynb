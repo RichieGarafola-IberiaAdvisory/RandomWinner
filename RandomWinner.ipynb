{
 "cells": [
  {
   "cell_type": "code",
   "execution_count": null,
   "id": "ded349fd-7dd8-414f-8b8e-818fe9c0888f",
   "metadata": {
    "tags": []
   },
   "outputs": [],
   "source": [
    "# Generate pseudo-random numbers\n",
    "import random"
   ]
  },
  {
   "cell_type": "code",
   "execution_count": null,
   "id": "e32f2cf8-34f0-47f1-b288-a4edf9c751d7",
   "metadata": {},
   "outputs": [],
   "source": [
    "def select_winners(participants, num_winners):\n",
    "        \"\"\"\n",
    "    Select random winners from a list of participants.\n",
    "\n",
    "    Parameters:\n",
    "    - participants (list): List of participants' identifiers (ex., LinkedIn usernames).\n",
    "    - num_winners (int): Number of winners to select.\n",
    "\n",
    "    Returns:\n",
    "    - list: List of selected winners.\n",
    "    \"\"\"\n",
    "    \n",
    "    # Use random.sample to randomly select winners without replacement\n",
    "    if num_winners > len(participants):\n",
    "        print(\"Error: Number of winners cannot exceed the number of participants.\")\n",
    "        return []\n",
    "\n",
    "    winners = random.sample(participants, num_winners)\n",
    "    return winners"
   ]
  },
  {
   "cell_type": "code",
   "execution_count": null,
   "id": "cc3ac0c0-d4c5-4b7a-b48c-06919e001b62",
   "metadata": {},
   "outputs": [],
   "source": [
    "# Example usage:\n",
    "participants = [\n",
    "    \"Richie\",\n",
    "    \"Casey\",\n",
    "    \"Brian\",\n",
    "    \"Jessie\"\n",
    "]"
   ]
  },
  {
   "cell_type": "code",
   "execution_count": null,
   "id": "297abbfc-be4e-49fd-be59-143cc7cd6155",
   "metadata": {},
   "outputs": [],
   "source": [
    "# Adjust this based on the number of swag items you have\n",
    "num_winners = 1  "
   ]
  },
  {
   "cell_type": "code",
   "execution_count": null,
   "id": "17beba9c-716b-4283-a95b-44efce3751d6",
   "metadata": {},
   "outputs": [],
   "source": [
    "# Select winners using the defined function\n",
    "selected_winners = select_winners(participants, num_winners)"
   ]
  },
  {
   "cell_type": "code",
   "execution_count": null,
   "id": "fa9ee22c-3fe3-416b-b309-9304997a09fa",
   "metadata": {},
   "outputs": [
    {
     "name": "stdout",
     "output_type": "stream",
     "text": [
      "Selected Winners:\n",
      "Casey\n"
     ]
    }
   ],
   "source": [
    "# Display the selected winners\n",
    "print(\"Selected Winners:\")\n",
    "for winner in selected_winners:\n",
    "    print(winner)"
   ]
  },
  {
   "cell_type": "code",
   "execution_count": null,
   "id": "e5d0eda7-e4e5-408f-b181-108976c5230c",
   "metadata": {},
   "outputs": [],
   "source": []
  }
 ],
 "metadata": {
  "kernelspec": {
   "display_name": "Iberia Advisory",
   "language": "python",
   "name": "iberiaadvisory"
  },
  "language_info": {
   "codemirror_mode": {
    "name": "ipython",
    "version": 3
   },
   "file_extension": ".py",
   "mimetype": "text/x-python",
   "name": "python",
   "nbconvert_exporter": "python",
   "pygments_lexer": "ipython3",
   "version": "3.10.13"
  }
 },
 "nbformat": 4,
 "nbformat_minor": 5
}
